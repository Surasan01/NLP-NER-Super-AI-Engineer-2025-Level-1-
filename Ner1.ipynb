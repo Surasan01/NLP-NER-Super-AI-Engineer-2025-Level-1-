{
 "cells": [
  {
   "cell_type": "code",
   "execution_count": 1,
   "metadata": {},
   "outputs": [],
   "source": [
    "# 1. Data Loading and Preprocessing\n",
    "def load_data_from_folder(folder_path):\n",
    "    sentences = []\n",
    "    sentence = []\n",
    "    \n",
    "    # Read all .txt files in the folder\n",
    "    for file in os.listdir(folder_path):\n",
    "        if file.endswith('.txt'):\n",
    "            with open(os.path.join(folder_path, file), 'r', encoding='utf-8') as f:\n",
    "                for line in f:\n",
    "                    if line.strip():  # Skip empty lines\n",
    "                        # Split by tabs\n",
    "                        parts = line.strip().split('\\t')\n",
    "                        if len(parts) == 4:\n",
    "                            word, pos, ner, cls = parts\n",
    "                            sentence.append([word, pos, ner, cls])\n",
    "                    else:\n",
    "                        if sentence:\n",
    "                            sentences.append(sentence)\n",
    "                            sentence = []\n",
    "    return sentences\n",
    "\n",
    "# 2. Feature Engineering\n",
    "def create_features(word, pos, is_first, is_last):\n",
    "    return {\n",
    "        'word': word,\n",
    "        'pos': pos,\n",
    "        'is_first': is_first,\n",
    "        'is_last': is_last,\n",
    "        'is_capitalized': word[0].isupper(),\n",
    "        'word_length': len(word),\n",
    "        'prefix-1': word[0],\n",
    "        'prefix-2': word[:2],\n",
    "        'suffix-1': word[-1],\n",
    "        'suffix-2': word[-2:],\n",
    "    }"
   ]
  },
  {
   "cell_type": "code",
   "execution_count": 2,
   "metadata": {},
   "outputs": [
    {
     "name": "stdout",
     "output_type": "stream",
     "text": [
      "Requirement already satisfied: sklearn-crfsuite in c:\\users\\potij\\appdata\\local\\programs\\python\\python312\\lib\\site-packages (0.5.0)\n",
      "Requirement already satisfied: python-crfsuite>=0.9.7 in c:\\users\\potij\\appdata\\local\\programs\\python\\python312\\lib\\site-packages (from sklearn-crfsuite) (0.9.11)\n",
      "Requirement already satisfied: scikit-learn>=0.24.0 in c:\\users\\potij\\appdata\\local\\programs\\python\\python312\\lib\\site-packages (from sklearn-crfsuite) (1.5.0)\n",
      "Requirement already satisfied: tabulate>=0.4.2 in c:\\users\\potij\\appdata\\local\\programs\\python\\python312\\lib\\site-packages (from sklearn-crfsuite) (0.9.0)\n",
      "Requirement already satisfied: tqdm>=2.0 in c:\\users\\potij\\appdata\\local\\programs\\python\\python312\\lib\\site-packages (from sklearn-crfsuite) (4.66.5)\n",
      "Requirement already satisfied: numpy>=1.19.5 in c:\\users\\potij\\appdata\\local\\programs\\python\\python312\\lib\\site-packages (from scikit-learn>=0.24.0->sklearn-crfsuite) (1.26.4)\n",
      "Requirement already satisfied: scipy>=1.6.0 in c:\\users\\potij\\appdata\\local\\programs\\python\\python312\\lib\\site-packages (from scikit-learn>=0.24.0->sklearn-crfsuite) (1.13.1)\n",
      "Requirement already satisfied: joblib>=1.2.0 in c:\\users\\potij\\appdata\\local\\programs\\python\\python312\\lib\\site-packages (from scikit-learn>=0.24.0->sklearn-crfsuite) (1.4.2)\n",
      "Requirement already satisfied: threadpoolctl>=3.1.0 in c:\\users\\potij\\appdata\\local\\programs\\python\\python312\\lib\\site-packages (from scikit-learn>=0.24.0->sklearn-crfsuite) (3.5.0)\n",
      "Requirement already satisfied: colorama in c:\\users\\potij\\appdata\\roaming\\python\\python312\\site-packages (from tqdm>=2.0->sklearn-crfsuite) (0.4.6)\n"
     ]
    },
    {
     "name": "stderr",
     "output_type": "stream",
     "text": [
      "\n",
      "[notice] A new release of pip is available: 24.0 -> 24.3.1\n",
      "[notice] To update, run: python.exe -m pip install --upgrade pip\n"
     ]
    }
   ],
   "source": [
    "!pip install sklearn-crfsuite"
   ]
  },
  {
   "cell_type": "code",
   "execution_count": 3,
   "metadata": {},
   "outputs": [],
   "source": [
    "# Using CRF (Conditional Random Fields) which works well for sequence labeling\n",
    "from sklearn_crfsuite import CRF\n",
    "\n",
    "# Initialize CRF model\n",
    "crf = CRF(\n",
    "    algorithm='lbfgs',\n",
    "    c1=0.1,\n",
    "    c2=0.1,\n",
    "    max_iterations=100,\n",
    "    all_possible_transitions=True\n",
    ")"
   ]
  },
  {
   "cell_type": "code",
   "execution_count": 4,
   "metadata": {},
   "outputs": [
    {
     "name": "stdout",
     "output_type": "stream",
     "text": [
      "F1-macro score: nan\n"
     ]
    }
   ],
   "source": [
    "import os\n",
    "from sklearn_crfsuite import CRF\n",
    "from sklearn_crfsuite.metrics import flat_f1_score\n",
    "import numpy as np\n",
    "\n",
    "def prepare_data(sentences):\n",
    "    X = []\n",
    "    y = []\n",
    "    \n",
    "    for sentence in sentences:\n",
    "        sentence_features = []\n",
    "        sentence_labels = []\n",
    "        \n",
    "        for i, (word, pos, ner, _) in enumerate(sentence):\n",
    "            features = create_features(\n",
    "                word=word,\n",
    "                pos=pos,\n",
    "                is_first=(i == 0),\n",
    "                is_last=(i == len(sentence)-1)\n",
    "            )\n",
    "            sentence_features.append(features)\n",
    "            sentence_labels.append(ner)\n",
    "            \n",
    "        X.append(sentence_features)\n",
    "        y.append(sentence_labels)\n",
    "    \n",
    "    return X, y\n",
    "\n",
    "# Load data\n",
    "train_sentences = load_data_from_folder('train')\n",
    "test_sentences = load_data_from_folder('test')\n",
    "eval_sentences = load_data_from_folder('eval')\n",
    "\n",
    "# Prepare data\n",
    "X_train, y_train = prepare_data(train_sentences)\n",
    "X_test, y_test = prepare_data(test_sentences)\n",
    "\n",
    "# Train model\n",
    "crf.fit(X_train, y_train)\n",
    "\n",
    "# Predict\n",
    "y_pred = crf.predict(X_test)\n",
    "\n",
    "# Evaluate\n",
    "f1_macro = flat_f1_score(y_test, y_pred, average='macro')\n",
    "print(f'F1-macro score: {f1_macro:.4f}')"
   ]
  },
  {
   "cell_type": "code",
   "execution_count": 7,
   "metadata": {},
   "outputs": [
    {
     "data": {
      "text/plain": [
       "[]"
      ]
     },
     "execution_count": 7,
     "metadata": {},
     "output_type": "execute_result"
    }
   ],
   "source": [
    "train_sentences"
   ]
  },
  {
   "cell_type": "code",
   "execution_count": 6,
   "metadata": {},
   "outputs": [
    {
     "data": {
      "text/plain": [
       "array([], dtype=object)"
      ]
     },
     "execution_count": 6,
     "metadata": {},
     "output_type": "execute_result"
    }
   ],
   "source": [
    "y_pred"
   ]
  }
 ],
 "metadata": {
  "kernelspec": {
   "display_name": "Python 3",
   "language": "python",
   "name": "python3"
  },
  "language_info": {
   "codemirror_mode": {
    "name": "ipython",
    "version": 3
   },
   "file_extension": ".py",
   "mimetype": "text/x-python",
   "name": "python",
   "nbconvert_exporter": "python",
   "pygments_lexer": "ipython3",
   "version": "3.12.0"
  }
 },
 "nbformat": 4,
 "nbformat_minor": 2
}
