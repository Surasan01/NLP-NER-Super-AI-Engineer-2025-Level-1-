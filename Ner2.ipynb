{
 "cells": [
  {
   "cell_type": "code",
   "execution_count": 3,
   "metadata": {},
   "outputs": [
    {
     "name": "stdout",
     "output_type": "stream",
     "text": [
      "Example first sentence in train_data: No data\n"
     ]
    }
   ],
   "source": [
    "import os\n",
    "\n",
    "def collect_and_inspect_data(folder_path):\n",
    "    \"\"\"\n",
    "    Step 1: Scan each file and check basic integrity.\n",
    "    For example, we ensure lines have token+label columns (e.g. tsv).\n",
    "    \"\"\"\n",
    "    all_files = []\n",
    "    for root, _, files in os.walk(folder_path):\n",
    "        for name in files:\n",
    "            if name.endswith(\".txt\") or name.endswith(\".tsv\"):\n",
    "                file_path = os.path.join(root, name)\n",
    "                with open(file_path, \"r\", encoding=\"utf-8\") as f:\n",
    "                    lines = f.readlines()\n",
    "                # Basic check: ensure each line is token \\t tag\n",
    "                for i, line in enumerate(lines):\n",
    "                    if line.strip() and \"\\t\" not in line:\n",
    "                        print(f\"Warning: Missing tab delimiter in {file_path} line {i+1}\")\n",
    "                all_files.append(file_path)\n",
    "    return all_files\n",
    "\n",
    "def convert_files_to_token_tag_pairs(file_list):\n",
    "    \"\"\"\n",
    "    Step 2: Convert data to list of (token, tag) pairs per sentence.\n",
    "    Returns list of lists, where each sub-list is a sentence.\n",
    "    \"\"\"\n",
    "    dataset = []\n",
    "    for file_path in file_list:\n",
    "        with open(file_path, \"r\", encoding=\"utf-8\") as f:\n",
    "            lines = f.readlines()\n",
    "\n",
    "        current_sentence = []\n",
    "        for line in lines:\n",
    "            line = line.strip()\n",
    "            # Skip empty lines (start a new sentence)\n",
    "            if not line:\n",
    "                if current_sentence:\n",
    "                    dataset.append(current_sentence)\n",
    "                    current_sentence = []\n",
    "                continue\n",
    "\n",
    "            parts = line.split(\"\\t\")\n",
    "            if len(parts) >= 2:\n",
    "                token, tag = parts[0], parts[-1]\n",
    "                current_sentence.append((token, tag))\n",
    "\n",
    "        # Append last sentence if any\n",
    "        if current_sentence:\n",
    "            dataset.append(current_sentence)\n",
    "\n",
    "    return dataset\n",
    "\n",
    "# Example usage:\n",
    "if __name__ == \"__main__\":\n",
    "    train_files = collect_and_inspect_data(\"path/to/train\")\n",
    "    test_files = collect_and_inspect_data(\"path/to/test\")\n",
    "    eval_files = collect_and_inspect_data(\"path/to/eval\")\n",
    "\n",
    "    train_data = convert_files_to_token_tag_pairs(train_files)\n",
    "    test_data = convert_files_to_token_tag_pairs(test_files)\n",
    "    eval_data = convert_files_to_token_tag_pairs(eval_files)\n",
    "\n",
    "    print(\"Example first sentence in train_data:\", train_data[0] if train_data else \"No data\")"
   ]
  }
 ],
 "metadata": {
  "kernelspec": {
   "display_name": "Python 3",
   "language": "python",
   "name": "python3"
  },
  "language_info": {
   "codemirror_mode": {
    "name": "ipython",
    "version": 3
   },
   "file_extension": ".py",
   "mimetype": "text/x-python",
   "name": "python",
   "nbconvert_exporter": "python",
   "pygments_lexer": "ipython3",
   "version": "3.12.0"
  }
 },
 "nbformat": 4,
 "nbformat_minor": 2
}
